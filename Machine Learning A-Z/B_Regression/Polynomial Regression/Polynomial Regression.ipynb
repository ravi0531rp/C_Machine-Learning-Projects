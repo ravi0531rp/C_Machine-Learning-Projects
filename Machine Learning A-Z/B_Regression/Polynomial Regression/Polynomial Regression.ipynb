{
 "cells": [
  {
   "cell_type": "markdown",
   "metadata": {},
   "source": [
    "## 1. Polynomial Regression Theory\n",
    "\n",
    "The goal of regression analysis is to model the expected value of a dependent variable y in terms of the value of an independent variable (or vector of independent variables) x. In simple linear regression, the model\n",
    "\n",
    "{\\displaystyle y=\\beta _{0}+\\beta _{1}x+\\varepsilon ,\\,} {\\displaystyle y=\\beta _{0}+\\beta _{1}x+\\varepsilon ,\\,}\n",
    "is used, where ε is an unobserved random error with mean zero conditioned on a scalar variable x. In this model, for each unit increase in the value of x, the conditional expectation of y increases by β1 units.\n",
    "\n",
    "In many settings, such a linear relationship may not hold. For example, if we are modeling the yield of a chemical synthesis in terms of the temperature at which the synthesis takes place, we may find that the yield improves by increasing amounts for each unit increase in temperature. In this case, we might propose a quadratic model of the form\n",
    "\n",
    "{\\displaystyle y=\\beta _{0}+\\beta _{1}x+\\beta _{2}x^{2}+\\varepsilon .\\,} {\\displaystyle y=\\beta _{0}+\\beta _{1}x+\\beta _{2}x^{2}+\\varepsilon .\\,}\n",
    "In this model, when the temperature is increased from x to x + 1 units, the expected yield changes by {\\displaystyle \\beta _{1}+\\beta _{2}(2x+1).} {\\displaystyle \\beta _{1}+\\beta _{2}(2x+1).} (This can be seen by replacing x in this equation with x+1 and subtracting the equation in x from the equation in x+1.) For infinitesimal changes in x, the effect on y is given by the total derivative with respect to x: {\\displaystyle \\beta _{1}+2\\beta _{2}x.} {\\displaystyle \\beta _{1}+2\\beta _{2}x.} The fact that the change in yield depends on x is what makes the relationship between x and y nonlinear even though the model is linear in the parameters to be estimated.\n",
    "\n",
    "In general, we can model the expected value of y as an nth degree polynomial, yielding the general polynomial regression model\n",
    "\n",
    "{\\displaystyle y=\\beta _{0}+\\beta _{1}x+\\beta _{2}x^{2}+\\beta _{3}x^{3}+\\cdots +\\beta _{n}x^{n}+\\varepsilon .\\,} {\\displaystyle y=\\beta _{0}+\\beta _{1}x+\\beta _{2}x^{2}+\\beta _{3}x^{3}+\\cdots +\\beta _{n}x^{n}+\\varepsilon .\\,}\n",
    "Conveniently, these models are all linear from the point of view of estimation, since the regression function is linear in terms of the unknown parameters β0, β1, .... Therefore, for least squares analysis, the computational and inferential problems of polynomial regression can be completely addressed using the techniques of multiple regression. This is done by treating x, x2, ... as being distinct independent variables in a multiple regression model.\n",
    "\n",
    "Matrix form and calculation of estimates\n",
    "The polynomial regression model\n",
    "\n",
    "{\\displaystyle y_{i}\\,=\\,\\beta _{0}+\\beta _{1}x_{i}+\\beta _{2}x_{i}^{2}+\\cdots +\\beta _{m}x_{i}^{m}+\\varepsilon _{i}\\ (i=1,2,\\dots ,n)} {\\displaystyle y_{i}\\,=\\,\\beta _{0}+\\beta _{1}x_{i}+\\beta _{2}x_{i}^{2}+\\cdots +\\beta _{m}x_{i}^{m}+\\varepsilon _{i}\\ (i=1,2,\\dots ,n)}\n",
    "can be expressed in matrix form in terms of a design matrix {\\displaystyle \\mathbf {X} } \\mathbf {X} , a response vector {\\displaystyle {\\vec {y}}} \\vec y, a parameter vector {\\displaystyle {\\vec {\\beta }}} {\\displaystyle {\\vec {\\beta }}}, and a vector {\\displaystyle {\\vec {\\varepsilon }}} {\\displaystyle {\\vec {\\varepsilon }}} of random errors. The i-th row of {\\displaystyle \\mathbf {X} } \\mathbf {X}  and {\\displaystyle {\\vec {y}}} \\vec y will contain the x and y value for the i-th data sample. Then the model can be written as a system of linear equations:\n",
    "\n",
    "{\\displaystyle {\\begin{bmatrix}y_{1}\\\\y_{2}\\\\y_{3}\\\\\\vdots \\\\y_{n}\\end{bmatrix}}={\\begin{bmatrix}1&x_{1}&x_{1}^{2}&\\dots &x_{1}^{m}\\\\1&x_{2}&x_{2}^{2}&\\dots &x_{2}^{m}\\\\1&x_{3}&x_{3}^{2}&\\dots &x_{3}^{m}\\\\\\vdots &\\vdots &\\vdots &\\ddots &\\vdots \\\\1&x_{n}&x_{n}^{2}&\\dots &x_{n}^{m}\\end{bmatrix}}{\\begin{bmatrix}\\beta _{0}\\\\\\beta _{1}\\\\\\beta _{2}\\\\\\vdots \\\\\\beta _{m}\\end{bmatrix}}+{\\begin{bmatrix}\\varepsilon _{1}\\\\\\varepsilon _{2}\\\\\\varepsilon _{3}\\\\\\vdots \\\\\\varepsilon _{n}\\end{bmatrix}},} {\\displaystyle {\\begin{bmatrix}y_{1}\\\\y_{2}\\\\y_{3}\\\\\\vdots \\\\y_{n}\\end{bmatrix}}={\\begin{bmatrix}1&x_{1}&x_{1}^{2}&\\dots &x_{1}^{m}\\\\1&x_{2}&x_{2}^{2}&\\dots &x_{2}^{m}\\\\1&x_{3}&x_{3}^{2}&\\dots &x_{3}^{m}\\\\\\vdots &\\vdots &\\vdots &\\ddots &\\vdots \\\\1&x_{n}&x_{n}^{2}&\\dots &x_{n}^{m}\\end{bmatrix}}{\\begin{bmatrix}\\beta _{0}\\\\\\beta _{1}\\\\\\beta _{2}\\\\\\vdots \\\\\\beta _{m}\\end{bmatrix}}+{\\begin{bmatrix}\\varepsilon _{1}\\\\\\varepsilon _{2}\\\\\\varepsilon _{3}\\\\\\vdots \\\\\\varepsilon _{n}\\end{bmatrix}},}\n",
    "which when using pure matrix notation is written as\n",
    "\n",
    "{\\displaystyle {\\vec {y}}=\\mathbf {X} {\\vec {\\beta }}+{\\vec {\\varepsilon }}.\\,} {\\displaystyle {\\vec {y}}=\\mathbf {X} {\\vec {\\beta }}+{\\vec {\\varepsilon }}.\\,}\n",
    "The vector of estimated polynomial regression coefficients (using ordinary least squares estimation) is\n",
    "\n",
    "{\\displaystyle {\\widehat {\\vec {\\beta }}}=(\\mathbf {X} ^{\\mathsf {T}}\\mathbf {X} )^{-1}\\;\\mathbf {X} ^{\\mathsf {T}}{\\vec {y}},\\,} {\\displaystyle {\\widehat {\\vec {\\beta }}}=(\\mathbf {X} ^{\\mathsf {T}}\\mathbf {X} )^{-1}\\;\\mathbf {X} ^{\\mathsf {T}}{\\vec {y}},\\,}\n",
    "assuming m < n which is required for the matrix to be invertible; then since {\\displaystyle \\mathbf {X} } \\mathbf {X}  is a Vandermonde matrix, the invertibility condition is guaranteed to hold if all the {\\displaystyle x_{i}} x_{i} values are distinct. This is the unique least-squares solution."
   ]
  },
  {
   "cell_type": "markdown",
   "metadata": {},
   "source": [
    "## 2. Data Preprocessing"
   ]
  },
  {
   "cell_type": "code",
   "execution_count": 57,
   "metadata": {},
   "outputs": [
    {
     "data": {
      "text/plain": [
       "'from sklearn.preprocessing import StandardScaler\\nsc_X = StandardScaler()\\nX_train = sc_X.fit_transform(X_train)\\nX_test = sc_X.transform(X_test)\\nsc_y = StandardScaler()\\ny_train = sc_y.fit_transform(y_train)'"
      ]
     },
     "execution_count": 57,
     "metadata": {},
     "output_type": "execute_result"
    }
   ],
   "source": [
    "# Data Preprocessing Template\n",
    "\n",
    "# Importing the libraries\n",
    "import numpy as np\n",
    "import matplotlib.pyplot as plt\n",
    "import pandas as pd\n",
    "\n",
    "# Importing the dataset\n",
    "dataset = pd.read_csv('Position_Salaries.csv')\n",
    "X = dataset.iloc[:, 1:2].values  # 1:2 to make a matrix(as by using 1: ,it would have made a vector)\n",
    "y = dataset.iloc[:, 2].values\n",
    "\n",
    "# Splitting the dataset into the Training & test set(Here we do not split bcuz of th size. Also, our aim here is to overfit)\n",
    "'''\n",
    "from sklearn.cross_validation import train_test_split\n",
    "X_train, X_test, y_train, y_test = train_test_split(X, y, test_size = 0.2, random_state = 0)\n",
    "\n",
    "'''\n",
    "\n",
    "\n",
    "# Feature Scaling\n",
    "\"\"\"from sklearn.preprocessing import StandardScaler\n",
    "sc_X = StandardScaler()\n",
    "X_train = sc_X.fit_transform(X_train)\n",
    "X_test = sc_X.transform(X_test)\n",
    "sc_y = StandardScaler()\n",
    "y_train = sc_y.fit_transform(y_train)\"\"\""
   ]
  },
  {
   "cell_type": "code",
   "execution_count": 58,
   "metadata": {},
   "outputs": [
    {
     "data": {
      "text/plain": [
       "array([[ 1],\n",
       "       [ 2],\n",
       "       [ 3],\n",
       "       [ 4],\n",
       "       [ 5],\n",
       "       [ 6],\n",
       "       [ 7],\n",
       "       [ 8],\n",
       "       [ 9],\n",
       "       [10]], dtype=int64)"
      ]
     },
     "execution_count": 58,
     "metadata": {},
     "output_type": "execute_result"
    }
   ],
   "source": [
    "X"
   ]
  },
  {
   "cell_type": "code",
   "execution_count": 59,
   "metadata": {},
   "outputs": [
    {
     "data": {
      "text/plain": [
       "array([  45000,   50000,   60000,   80000,  110000,  150000,  200000,\n",
       "        300000,  500000, 1000000], dtype=int64)"
      ]
     },
     "execution_count": 59,
     "metadata": {},
     "output_type": "execute_result"
    }
   ],
   "source": [
    "y"
   ]
  },
  {
   "cell_type": "code",
   "execution_count": 60,
   "metadata": {},
   "outputs": [
    {
     "data": {
      "text/plain": [
       "<matplotlib.collections.PathCollection at 0x21113d44ef0>"
      ]
     },
     "execution_count": 60,
     "metadata": {},
     "output_type": "execute_result"
    },
    {
     "data": {
      "image/png": "[encoded data removed]",
      "text/plain": [
       "<Figure size 432x288 with 1 Axes>"
      ]
     },
     "metadata": {},
     "output_type": "display_data"
    }
   ],
   "source": [
    "plt.scatter(X,y)"
   ]
  },
  {
   "cell_type": "markdown",
   "metadata": {},
   "source": [
    "## 3. Fit a linear Regression Model"
   ]
  },
  {
   "cell_type": "code",
   "execution_count": 61,
   "metadata": {},
   "outputs": [],
   "source": [
    "from sklearn.linear_model import LinearRegression"
   ]
  },
  {
   "cell_type": "code",
   "execution_count": 62,
   "metadata": {},
   "outputs": [],
   "source": [
    "lin_reg=LinearRegression()"
   ]
  },
  {
   "cell_type": "code",
   "execution_count": 63,
   "metadata": {},
   "outputs": [
    {
     "data": {
      "text/plain": [
       "LinearRegression(copy_X=True, fit_intercept=True, n_jobs=1, normalize=False)"
      ]
     },
     "execution_count": 63,
     "metadata": {},
     "output_type": "execute_result"
    }
   ],
   "source": [
    "lin_reg"
   ]
  },
  {
   "cell_type": "code",
   "execution_count": 64,
   "metadata": {},
   "outputs": [
    {
     "data": {
      "text/plain": [
       "LinearRegression(copy_X=True, fit_intercept=True, n_jobs=1, normalize=False)"
      ]
     },
     "execution_count": 64,
     "metadata": {},
     "output_type": "execute_result"
    }
   ],
   "source": [
    "lin_reg.fit(X,y)"
   ]
  },
  {
   "cell_type": "markdown",
   "metadata": {},
   "source": [
    "## 4. Fit a Polynomial Regression Model"
   ]
  },
  {
   "cell_type": "code",
   "execution_count": 65,
   "metadata": {},
   "outputs": [],
   "source": [
    "from sklearn.preprocessing import PolynomialFeatures  # it converts our X to  new Matrix consisting of powers of columns of x"
   ]
  },
  {
   "cell_type": "code",
   "execution_count": 66,
   "metadata": {},
   "outputs": [],
   "source": [
    "poly_reg=PolynomialFeatures(degree=4)"
   ]
  },
  {
   "cell_type": "code",
   "execution_count": 67,
   "metadata": {},
   "outputs": [
    {
     "data": {
      "text/plain": [
       "PolynomialFeatures(degree=4, include_bias=True, interaction_only=False)"
      ]
     },
     "execution_count": 67,
     "metadata": {},
     "output_type": "execute_result"
    }
   ],
   "source": [
    "X_poly=poly_reg.fit_transform(X)\n",
    "poly_reg.fit(X_poly,y)"
   ]
  },
  {
   "cell_type": "code",
   "execution_count": 68,
   "metadata": {},
   "outputs": [
    {
     "data": {
      "text/plain": [
       "array([[1.000e+00, 1.000e+00, 1.000e+00, 1.000e+00, 1.000e+00],\n",
       "       [1.000e+00, 2.000e+00, 4.000e+00, 8.000e+00, 1.600e+01],\n",
       "       [1.000e+00, 3.000e+00, 9.000e+00, 2.700e+01, 8.100e+01],\n",
       "       [1.000e+00, 4.000e+00, 1.600e+01, 6.400e+01, 2.560e+02],\n",
       "       [1.000e+00, 5.000e+00, 2.500e+01, 1.250e+02, 6.250e+02],\n",
       "       [1.000e+00, 6.000e+00, 3.600e+01, 2.160e+02, 1.296e+03],\n",
       "       [1.000e+00, 7.000e+00, 4.900e+01, 3.430e+02, 2.401e+03],\n",
       "       [1.000e+00, 8.000e+00, 6.400e+01, 5.120e+02, 4.096e+03],\n",
       "       [1.000e+00, 9.000e+00, 8.100e+01, 7.290e+02, 6.561e+03],\n",
       "       [1.000e+00, 1.000e+01, 1.000e+02, 1.000e+03, 1.000e+04]])"
      ]
     },
     "execution_count": 68,
     "metadata": {},
     "output_type": "execute_result"
    }
   ],
   "source": [
    "X_poly"
   ]
  },
  {
   "cell_type": "code",
   "execution_count": 69,
   "metadata": {},
   "outputs": [],
   "source": [
    "lin_reg2=LinearRegression()"
   ]
  },
  {
   "cell_type": "code",
   "execution_count": 70,
   "metadata": {},
   "outputs": [
    {
     "data": {
      "text/plain": [
       "LinearRegression(copy_X=True, fit_intercept=True, n_jobs=1, normalize=False)"
      ]
     },
     "execution_count": 70,
     "metadata": {},
     "output_type": "execute_result"
    }
   ],
   "source": [
    "lin_reg2.fit(X_poly,y)"
   ]
  },
  {
   "cell_type": "markdown",
   "metadata": {},
   "source": [
    "## 5. Visulaizing the Lin Reg Prediction"
   ]
  },
  {
   "cell_type": "code",
   "execution_count": 75,
   "metadata": {},
   "outputs": [
    {
     "data": {
      "image/png": "[encoded data removed]",
      "text/plain": [
       "<Figure size 432x288 with 1 Axes>"
      ]
     },
     "metadata": {},
     "output_type": "display_data"
    }
   ],
   "source": [
    "plt.scatter(X,y,color='red')\n",
    "plt.plot(X,lin_reg.predict(X),color='blue')\n",
    "plt.title('Prediction by Linear Regression')\n",
    "plt.xlabel('position Levels')\n",
    "plt.ylabel('Salary Predicted')\n",
    "plt.show()"
   ]
  },
  {
   "cell_type": "markdown",
   "metadata": {},
   "source": [
    "## 6. Visulaizing the Poly Reg Predictions"
   ]
  },
  {
   "cell_type": "code",
   "execution_count": 73,
   "metadata": {
    "scrolled": true
   },
   "outputs": [
    {
     "data": {
      "text/plain": [
       "array([[1. ],\n",
       "       [1.1],\n",
       "       [1.2],\n",
       "       [1.3],\n",
       "       [1.4],\n",
       "       [1.5],\n",
       "       [1.6],\n",
       "       [1.7],\n",
       "       [1.8],\n",
       "       [1.9],\n",
       "       [2. ],\n",
       "       [2.1],\n",
       "       [2.2],\n",
       "       [2.3],\n",
       "       [2.4],\n",
       "       [2.5],\n",
       "       [2.6],\n",
       "       [2.7],\n",
       "       [2.8],\n",
       "       [2.9],\n",
       "       [3. ],\n",
       "       [3.1],\n",
       "       [3.2],\n",
       "       [3.3],\n",
       "       [3.4],\n",
       "       [3.5],\n",
       "       [3.6],\n",
       "       [3.7],\n",
       "       [3.8],\n",
       "       [3.9],\n",
       "       [4. ],\n",
       "       [4.1],\n",
       "       [4.2],\n",
       "       [4.3],\n",
       "       [4.4],\n",
       "       [4.5],\n",
       "       [4.6],\n",
       "       [4.7],\n",
       "       [4.8],\n",
       "       [4.9],\n",
       "       [5. ],\n",
       "       [5.1],\n",
       "       [5.2],\n",
       "       [5.3],\n",
       "       [5.4],\n",
       "       [5.5],\n",
       "       [5.6],\n",
       "       [5.7],\n",
       "       [5.8],\n",
       "       [5.9],\n",
       "       [6. ],\n",
       "       [6.1],\n",
       "       [6.2],\n",
       "       [6.3],\n",
       "       [6.4],\n",
       "       [6.5],\n",
       "       [6.6],\n",
       "       [6.7],\n",
       "       [6.8],\n",
       "       [6.9],\n",
       "       [7. ],\n",
       "       [7.1],\n",
       "       [7.2],\n",
       "       [7.3],\n",
       "       [7.4],\n",
       "       [7.5],\n",
       "       [7.6],\n",
       "       [7.7],\n",
       "       [7.8],\n",
       "       [7.9],\n",
       "       [8. ],\n",
       "       [8.1],\n",
       "       [8.2],\n",
       "       [8.3],\n",
       "       [8.4],\n",
       "       [8.5],\n",
       "       [8.6],\n",
       "       [8.7],\n",
       "       [8.8],\n",
       "       [8.9],\n",
       "       [9. ],\n",
       "       [9.1],\n",
       "       [9.2],\n",
       "       [9.3],\n",
       "       [9.4],\n",
       "       [9.5],\n",
       "       [9.6],\n",
       "       [9.7],\n",
       "       [9.8],\n",
       "       [9.9]])"
      ]
     },
     "execution_count": 73,
     "metadata": {},
     "output_type": "execute_result"
    }
   ],
   "source": [
    "X_grid=np.arange(min(X),max(X),0.1)\n",
    "X_grid.reshape((len(X_grid),1))\n"
   ]
  },
  {
   "cell_type": "code",
   "execution_count": 79,
   "metadata": {},
   "outputs": [
    {
     "data": {
      "image/png": "[encoded data removed]",
      "text/plain": [
       "<Figure size 432x288 with 1 Axes>"
      ]
     },
     "metadata": {},
     "output_type": "display_data"
    }
   ],
   "source": [
    "plt.scatter(X,y,color='red')\n",
    "plt.plot(X,lin_reg2.predict(poly_reg.fit_transform(X)),color='blue')\n",
    "plt.title('Prediction by Polynomial Regression')\n",
    "plt.xlabel('position Levels')\n",
    "plt.ylabel('Salary Predicted')\n",
    "plt.show()"
   ]
  },
  {
   "cell_type": "code",
   "execution_count": 81,
   "metadata": {},
   "outputs": [
    {
     "data": {
      "text/plain": [
       "array([158862.45265153])"
      ]
     },
     "execution_count": 81,
     "metadata": {},
     "output_type": "execute_result"
    }
   ],
   "source": [
    "# Predicting a new result with Linear Regression\n",
    "lin_reg.predict(6.5)\n",
    "\n",
    "# Predicting a new result with Polynomial Regression\n",
    "lin_reg2.predict(poly_reg.fit_transform(6.5))"
   ]
  },
  {
   "cell_type": "code",
   "execution_count": null,
   "metadata": {},
   "outputs": [],
   "source": []
  }
 ],
 "metadata": {
  "kernelspec": {
   "display_name": "Python 3",
   "language": "python",
   "name": "python3"
  },
  "language_info": {
   "codemirror_mode": {
    "name": "ipython",
    "version": 3
   },
   "file_extension": ".py",
   "mimetype": "text/x-python",
   "name": "python",
   "nbconvert_exporter": "python",
   "pygments_lexer": "ipython3",
   "version": "3.6.6"
  }
 },
 "nbformat": 4,
 "nbformat_minor": 2
}
